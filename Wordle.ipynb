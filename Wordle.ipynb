{
 "cells": [
  {
   "cell_type": "code",
   "execution_count": 1,
   "id": "ea097f31",
   "metadata": {},
   "outputs": [],
   "source": [
    "import string\n",
    "from collections import Counter\n",
    "from itertools import chain\n",
    "from pathlib import Path\n",
    "import operator"
   ]
  },
  {
   "cell_type": "code",
   "execution_count": 2,
   "id": "64d10363",
   "metadata": {},
   "outputs": [],
   "source": [
    "solutions = \"solution_set.csv\"\n",
    "\n",
    "ALLOWABLE_CHARACTERS = set(string.ascii_letters)\n",
    "ALLOWED_ATTEMPTS = 6\n",
    "WORD_LENGTH = 5"
   ]
  },
  {
   "cell_type": "code",
   "execution_count": 3,
   "id": "1dc0a806",
   "metadata": {},
   "outputs": [],
   "source": [
    "WORDS = {\n",
    "  word.lower()\n",
    "  for word in Path(solutions).read_text().splitlines()\n",
    "  if len(word) == WORD_LENGTH and set(word) < ALLOWABLE_CHARACTERS\n",
    "}"
   ]
  },
  {
   "cell_type": "code",
   "execution_count": 4,
   "id": "a6756c89",
   "metadata": {},
   "outputs": [],
   "source": [
    "LETTER_COUNTER = Counter(chain.from_iterable(WORDS))"
   ]
  },
  {
   "cell_type": "code",
   "execution_count": 6,
   "id": "a9df21c1",
   "metadata": {},
   "outputs": [],
   "source": [
    "LETTER_COUNTER"
   ]
  },
  {
   "cell_type": "code",
   "execution_count": 7,
   "id": "8acf2a36",
   "metadata": {},
   "outputs": [],
   "source": [
    "LETTER_FREQUENCY = {   \n",
    "    character: (value / sum(LETTER_COUNTER.values()))\n",
    "    for character, value in LETTER_COUNTER.items()\n",
    "}"
   ]
  },
  {
   "cell_type": "code",
   "execution_count": 8,
   "id": "27b91601",
   "metadata": {},
   "outputs": [],
   "source": [
    "# LETTER_FREQUENCY"
   ]
  },
  {
   "cell_type": "code",
   "execution_count": 12,
   "id": "fbf30896",
   "metadata": {},
   "outputs": [],
   "source": [
    "def checkSimiliar(word):\n",
    "    score = 0.0\n",
    "    for char in word:\n",
    "        score += LETTER_FREQUENCY[char]\n",
    "    return score / (WORD_LENGTH - len(set(word)) + 1)"
   ]
  },
  {
   "cell_type": "code",
   "execution_count": 13,
   "id": "5d0d92da",
   "metadata": {},
   "outputs": [
    {
     "data": {
      "text/plain": [
       "0.05192224622030238"
      ]
     },
     "execution_count": 13,
     "metadata": {},
     "output_type": "execute_result"
    }
   ],
   "source": [
    "checkSimiliar(\"fuzzy\")"
   ]
  },
  {
   "cell_type": "code",
   "execution_count": 14,
   "id": "6534d2d7",
   "metadata": {},
   "outputs": [
    {
     "data": {
      "text/plain": [
       "0.39170626349892007"
      ]
     },
     "execution_count": 14,
     "metadata": {},
     "output_type": "execute_result"
    }
   ],
   "source": [
    "checkSimiliar(\"arose\")"
   ]
  },
  {
   "cell_type": "code",
   "execution_count": 15,
   "id": "28bc082b",
   "metadata": {},
   "outputs": [],
   "source": [
    "def sortSimiliar(words):\n",
    "    sort_by = operator.itemgetter(1)\n",
    "    return sorted(\n",
    "        [(word, checkSimiliar(word)) for word in words],\n",
    "        key=sort_by,\n",
    "        reverse=True,\n",
    "    )\n",
    "\n",
    "def showWords(sameWords):\n",
    "    for (word, freq) in sameWords:\n",
    "        print(f\"{word:<10} | {freq:<5.2}\")"
   ]
  },
  {
   "cell_type": "code",
   "execution_count": 16,
   "id": "2ca37eff",
   "metadata": {},
   "outputs": [],
   "source": [
    "def takeWord():\n",
    "    while True:\n",
    "        word = input(\"Input your latest attempt here: \")\n",
    "        if len(word) == WORD_LENGTH and word.lower() in WORDS:\n",
    "            break\n",
    "    return word.lower()\n",
    "\n",
    "\n",
    "def takeResponse():\n",
    "    print(\"Type the color-coded reply from Wordle:\")\n",
    "    print(\"  2 for Green\")\n",
    "    print(\"  1 for Yellow\")\n",
    "    print(\"  0 for Gray\")\n",
    "    while True:\n",
    "        response = input(\"Response from Wordle Game>>> \")\n",
    "        if len(response) == WORD_LENGTH and set(response) <= {\"2\", \"1\", \"0\"}:\n",
    "            break\n",
    "        else:\n",
    "            print(f\"Error - invalid answer {response}\")\n",
    "    return response"
   ]
  },
  {
   "cell_type": "code",
   "execution_count": 17,
   "id": "c49352cc",
   "metadata": {},
   "outputs": [],
   "source": [
    "wordVector = [set(string.ascii_lowercase) for _ in range(WORD_LENGTH)]"
   ]
  },
  {
   "cell_type": "code",
   "execution_count": 18,
   "id": "fe8fd169",
   "metadata": {},
   "outputs": [],
   "source": [
    "def matchWordVec(word, wordVector):\n",
    "    assert len(word) == len(wordVector)\n",
    "    for letter, v_letter in zip(word, wordVector):\n",
    "        if letter not in v_letter:\n",
    "            return False\n",
    "    return True"
   ]
  },
  {
   "cell_type": "code",
   "execution_count": 23,
   "id": "629ee299",
   "metadata": {},
   "outputs": [],
   "source": [
    "def match(wordVector, possibleWords):\n",
    "    return [word for word in possibleWords if matchWordVec(word, wordVector)]"
   ]
  },
  {
   "cell_type": "code",
   "execution_count": 25,
   "id": "8414409b",
   "metadata": {},
   "outputs": [],
   "source": [
    "def solve():\n",
    "    possible_words = WORDS.copy()\n",
    "    wordVector = [set(string.ascii_lowercase) for _ in range(WORD_LENGTH)]\n",
    "    for attempt in range(1, ALLOWED_ATTEMPTS + 1):\n",
    "        print(f\"Attempt {attempt} with {len(possible_words)} possible words\")\n",
    "        showWords(sortSimiliar(possible_words)[:15])\n",
    "        word = takeWord()\n",
    "        response = takeResponse()\n",
    "        for idx, letter in enumerate(response):\n",
    "            if letter == \"2\":\n",
    "                wordVector[idx] = {word[idx]}\n",
    "            elif letter == \"1\":\n",
    "                try:\n",
    "                    wordVector[idx].remove(word[idx])\n",
    "                except KeyError:\n",
    "                    pass\n",
    "            elif letter == \"0\":\n",
    "                for vector in wordVector:\n",
    "                    try:\n",
    "                        vector.remove(word[idx])\n",
    "                    except KeyError:\n",
    "                        pass\n",
    "        possible_words = match(wordVector, possible_words)"
   ]
  },
  {
   "cell_type": "code",
   "execution_count": null,
   "id": "c623b7df",
   "metadata": {},
   "outputs": [
    {
     "name": "stdout",
     "output_type": "stream",
     "text": [
      "Attempt 1 with 2315 possible words\n",
      "later      | 0.39 \n",
      "alter      | 0.39 \n",
      "alert      | 0.39 \n",
      "arose      | 0.39 \n",
      "irate      | 0.39 \n",
      "stare      | 0.39 \n",
      "arise      | 0.38 \n",
      "raise      | 0.38 \n",
      "renal      | 0.38 \n",
      "learn      | 0.38 \n",
      "snare      | 0.38 \n",
      "saner      | 0.38 \n",
      "slate      | 0.37 \n",
      "least      | 0.37 \n",
      "steal      | 0.37 \n",
      "Input your latest attempt here: alert\n",
      "Type the color-coded reply from Wordle:\n",
      "  2 for Green\n",
      "  1 for Yellow\n",
      "  0 for Gray\n",
      "Response from Wordle Game>>> 00001\n",
      "Attempt 2 with 280 possible words\n",
      "stoic      | 0.29 \n",
      "tonic      | 0.28 \n",
      "stony      | 0.27 \n",
      "scion      | 0.27 \n",
      "sonic      | 0.27 \n",
      "pinto      | 0.27 \n",
      "noisy      | 0.27 \n",
      "south      | 0.26 \n",
      "topic      | 0.26 \n",
      "optic      | 0.26 \n",
      "disco      | 0.26 \n",
      "sting      | 0.26 \n",
      "bison      | 0.25 \n",
      "gusto      | 0.25 \n",
      "notch      | 0.25 \n",
      "Input your latest attempt here: stoic\n",
      "Type the color-coded reply from Wordle:\n",
      "  2 for Green\n",
      "  1 for Yellow\n",
      "  0 for Gray\n",
      "Response from Wordle Game>>> 01100\n",
      "Attempt 3 with 55 possible words\n",
      "youth      | 0.24 \n",
      "month      | 0.24 \n",
      "pouty      | 0.24 \n",
      "mouth      | 0.23 \n",
      "tough      | 0.23 \n",
      "hound      | 0.22 \n",
      "pound      | 0.22 \n",
      "junto      | 0.22 \n",
      "young      | 0.22 \n",
      "mound      | 0.22 \n",
      "bound      | 0.21 \n",
      "found      | 0.21 \n",
      "wound      | 0.21 \n",
      "downy      | 0.2  \n",
      "dough      | 0.2  \n",
      "Input your latest attempt here: youth\n",
      "Type the color-coded reply from Wordle:\n",
      "  2 for Green\n",
      "  1 for Yellow\n",
      "  0 for Gray\n",
      "Response from Wordle Game>>> 02022\n",
      "Attempt 4 with 1 possible words\n",
      "month      | 0.24 \n",
      "Input your latest attempt here: month\n",
      "Type the color-coded reply from Wordle:\n",
      "  2 for Green\n",
      "  1 for Yellow\n",
      "  0 for Gray\n",
      "Response from Wordle Game>>> 22222\n",
      "Attempt 5 with 1 possible words\n",
      "month      | 0.24 \n"
     ]
    }
   ],
   "source": [
    "solve()"
   ]
  },
  {
   "cell_type": "code",
   "execution_count": null,
   "id": "da62ae1d",
   "metadata": {},
   "outputs": [],
   "source": []
  }
 ],
 "metadata": {
  "kernelspec": {
   "display_name": "Python 3 (ipykernel)",
   "language": "python",
   "name": "python3"
  },
  "language_info": {
   "codemirror_mode": {
    "name": "ipython",
    "version": 3
   },
   "file_extension": ".py",
   "mimetype": "text/x-python",
   "name": "python",
   "nbconvert_exporter": "python",
   "pygments_lexer": "ipython3",
   "version": "3.7.9"
  }
 },
 "nbformat": 4,
 "nbformat_minor": 5
}
